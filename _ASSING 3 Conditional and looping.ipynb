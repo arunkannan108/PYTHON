{
 "cells": [
  {
   "cell_type": "markdown",
   "id": "37745f51-6807-496e-8ab8-3f1ec4d1f348",
   "metadata": {},
   "source": [
    "# EXECRISE 1"
   ]
  },
  {
   "cell_type": "code",
   "execution_count": 1,
   "id": "dd21dfed-f624-45d5-9d23-3a3e9fa5bfaa",
   "metadata": {},
   "outputs": [
    {
     "name": "stdin",
     "output_type": "stream",
     "text": [
      "Enter the month:March  3\n"
     ]
    },
    {
     "name": "stdout",
     "output_type": "stream",
     "text": [
      "month:3\n"
     ]
    }
   ],
   "source": [
    " # MonthNames.py\n",
    "\n",
    "month_dict = {\n",
    "    1: \"January\",\n",
    "    2: \"February\",\n",
    "    3: \"March\",\n",
    "    4: \"April\",\n",
    "    5: \"May\",\n",
    "    6: \"June\",\n",
    "    7: \"July\",\n",
    "    8: \"August\",\n",
    "    9: \"September\",\n",
    "    10: \"October\",\n",
    "    11: \"November\",\n",
    "    12: \"December\"\n",
    "}\n",
    "\n",
    "month_number = int(input(\"Enter the month:March \"))\n",
    "if 1 <= month_number <= 12:\n",
    "    print(\"month:3\")\n"
   ]
  },
  {
   "cell_type": "markdown",
   "id": "ed2db96d-67f3-4af9-99e8-5187d7715968",
   "metadata": {},
   "source": [
    "# EXECRISE 2"
   ]
  },
  {
   "cell_type": "code",
   "execution_count": 4,
   "id": "7ed9249b-3ab3-487e-9c67-6ec50e942924",
   "metadata": {},
   "outputs": [
    {
     "name": "stdin",
     "output_type": "stream",
     "text": [
      "Enter your age:69  69\n"
     ]
    },
    {
     "name": "stdout",
     "output_type": "stream",
     "text": [
      "Your ticket costs £2.00\n"
     ]
    }
   ],
   "source": [
    "# Program to calculate cinema ticket price\n",
    "\n",
    "# Constants for ticket pricing\n",
    "FULL_PRICE = 6.0\n",
    "HALF_PRICE_AGE = 16\n",
    "DISCOUNT_PRICE_AGE = 60\n",
    "\n",
    "# Get user input\n",
    "age = int(input(\"Enter your age:69 \"))\n",
    "\n",
    "# Determine ticket price based on age\n",
    "if age < HALF_PRICE_AGE:\n",
    "    ticket_price = FULL_PRICE / 2\n",
    "elif age >= DISCOUNT_PRICE_AGE:\n",
    "    ticket_price = FULL_PRICE / 3\n",
    "else:\n",
    "    ticket_price = FULL_PRICE\n",
    "\n",
    "# Display the result\n",
    "print(f\"Your ticket costs £{ticket_price:.2f}\")\n"
   ]
  },
  {
   "cell_type": "markdown",
   "id": "43eaac2b-5e89-4a46-a75d-71cc053e4fff",
   "metadata": {},
   "source": [
    "# EXECRISE 3"
   ]
  },
  {
   "cell_type": "code",
   "execution_count": 5,
   "id": "852df857-db8f-4940-ad39-9409a4ecc6ed",
   "metadata": {},
   "outputs": [
    {
     "name": "stdin",
     "output_type": "stream",
     "text": [
      "Enter your weight in (kg):75  75\n",
      "Enter your height in (m):1.70  1.70\n"
     ]
    },
    {
     "name": "stdout",
     "output_type": "stream",
     "text": [
      "Your BMI is: 25.95\n",
      "You are in the \"overweight\" range.\n"
     ]
    }
   ],
   "source": [
    "# Program to calculate BMI and determine weight status\n",
    "\n",
    "# Get user input for weight and height\n",
    "weight = float(input(\"Enter your weight in (kg):75 \"))\n",
    "height = float(input(\"Enter your height in (m):1.70 \"))\n",
    "\n",
    "# Calculate BMI\n",
    "bmi = weight / (height ** 2)\n",
    "\n",
    "# Determine weight status\n",
    "if bmi < 18.5:\n",
    "    category = \"underweight\"\n",
    "elif 18.5 <= bmi < 25:\n",
    "    category = \"normal\"\n",
    "elif 25 <= bmi < 30:\n",
    "    category = \"overweight\"\n",
    "else:\n",
    "    category = \"obese\"\n",
    "\n",
    "# Display the results\n",
    "print(f\"Your BMI is: {bmi:.2f}\")\n",
    "print(f\"You are in the \\\"{category}\\\" range.\")\n"
   ]
  },
  {
   "cell_type": "markdown",
   "id": "77e0bcfc-df79-4958-a133-c9c32315061e",
   "metadata": {},
   "source": [
    "# EXECRISE 4"
   ]
  },
  {
   "cell_type": "code",
   "execution_count": 6,
   "id": "0ba725c1-659f-41cd-8b0d-53480e61e19a",
   "metadata": {},
   "outputs": [
    {
     "name": "stdin",
     "output_type": "stream",
     "text": [
      "Enter the first number:12  12\n",
      "Enter the second number:45 45\n",
      "Enter the third number:20  20\n"
     ]
    },
    {
     "name": "stdout",
     "output_type": "stream",
     "text": [
      "The greatest number is: 45.0\n"
     ]
    }
   ],
   "source": [
    "# Program to find the greatest of three numbers\n",
    "\n",
    "# Get input from the user\n",
    "num1 = float(input(\"Enter the first number:12 \"))\n",
    "num2 = float(input(\"Enter the second number:45\"))\n",
    "num3 = float(input(\"Enter the third number:20 \"))\n",
    "\n",
    "# Determine the greatest number\n",
    "if num1 >= num2 and num1 >= num3:\n",
    "    greatest = num1\n",
    "elif num2 >= num1 and num2 >= num3:\n",
    "    greatest = num2\n",
    "else:\n",
    "    greatest = num3\n",
    "\n",
    "# Print the result\n",
    "print(f\"The greatest number is: {greatest}\")\n"
   ]
  },
  {
   "cell_type": "markdown",
   "id": "63000e90-87ec-4cac-8b95-6340836d5d5b",
   "metadata": {},
   "source": [
    "# EXECRISE 5"
   ]
  },
  {
   "cell_type": "code",
   "execution_count": 7,
   "id": "263c71aa-335e-406d-adf2-a5570185e2a6",
   "metadata": {},
   "outputs": [
    {
     "name": "stdin",
     "output_type": "stream",
     "text": [
      "Enter a non-negative integer:5  5\n"
     ]
    },
    {
     "name": "stdout",
     "output_type": "stream",
     "text": [
      "The factorial of 5 is: 120\n"
     ]
    }
   ],
   "source": [
    "# Program to calculate the factorial of a number using loops\n",
    "\n",
    "# Get input from the user\n",
    "num = int(input(\"Enter a non-negative integer:5 \"))\n",
    "\n",
    "# Initialize the factorial result\n",
    "factorial = 1\n",
    "\n",
    "# Calculate factorial using a loop\n",
    "if num < 0:\n",
    "    print(\"Factorial is not defined for negative numbers.\")\n",
    "else:\n",
    "    for i in range(1, num + 1):\n",
    "        factorial *= i\n",
    "\n",
    "    # Print the result\n",
    "    print(f\"The factorial of {num} is: {factorial}\")\n"
   ]
  },
  {
   "cell_type": "markdown",
   "id": "1e1c14f1-0c3d-4bac-ab26-82235f88b1f1",
   "metadata": {},
   "source": [
    "# EXECRISE 6"
   ]
  },
  {
   "cell_type": "code",
   "execution_count": 8,
   "id": "50d03ad3-0406-41d9-83f0-2c8de6a011d6",
   "metadata": {},
   "outputs": [
    {
     "name": "stdin",
     "output_type": "stream",
     "text": [
      "Enter a number:1234  1234\n"
     ]
    },
    {
     "name": "stdout",
     "output_type": "stream",
     "text": [
      "The reverse of 1234 is: 4321\n"
     ]
    }
   ],
   "source": [
    "# Program to reverse a number using a while loop\n",
    "\n",
    "# Get input from the user\n",
    "num = int(input(\"Enter a number:1234 \"))\n",
    "\n",
    "# Initialize variables\n",
    "reversed_num = 0\n",
    "original_num = num\n",
    "\n",
    "# Reverse the number using a while loop\n",
    "while num != 0:\n",
    "    digit = num % 10  # Extract the last digit\n",
    "    reversed_num = reversed_num * 10 + digit  # Add it to the reversed number\n",
    "    num //= 10  # Remove the last digit from the number\n",
    "\n",
    "# Print the result\n",
    "print(f\"The reverse of {original_num} is: {reversed_num}\")\n"
   ]
  },
  {
   "cell_type": "markdown",
   "id": "8b32393f-adfd-4a40-b4c6-09508445bc75",
   "metadata": {},
   "source": [
    "# EXECRISE 7"
   ]
  },
  {
   "cell_type": "code",
   "execution_count": 9,
   "id": "092ba873-6cbc-43aa-b439-d647a328357a",
   "metadata": {},
   "outputs": [
    {
     "name": "stdin",
     "output_type": "stream",
     "text": [
      "Enter a number to find its multiples:5  5\n",
      "How many multiples do you want to display? 10  10\n"
     ]
    },
    {
     "name": "stdout",
     "output_type": "stream",
     "text": [
      "The first 10 multiples of 5 are:\n",
      "5\n",
      "10\n",
      "15\n",
      "20\n",
      "25\n",
      "30\n",
      "35\n",
      "40\n",
      "45\n",
      "50\n"
     ]
    }
   ],
   "source": [
    "# Program to find multiples of a number\n",
    "\n",
    "# Get input from the user\n",
    "num = int(input(\"Enter a number to find its multiples:5 \"))\n",
    "count = int(input(\"How many multiples do you want to display? 10 \"))\n",
    "\n",
    "# Display the multiples using a loop\n",
    "print(f\"The first {count} multiples of {num} are:\")\n",
    "for i in range(1, count + 1):\n",
    "    print(num * i)\n"
   ]
  },
  {
   "cell_type": "markdown",
   "id": "5f32016c-6f49-4baa-a2fa-fe8f76b9473e",
   "metadata": {},
   "source": [
    "# EXECRISE 8"
   ]
  },
  {
   "cell_type": "code",
   "execution_count": 10,
   "id": "fbc0281d-c57d-460a-909d-4fb3820b79d8",
   "metadata": {},
   "outputs": [
    {
     "name": "stdin",
     "output_type": "stream",
     "text": [
      "Enter something:hello there  hello there\n"
     ]
    },
    {
     "name": "stdout",
     "output_type": "stream",
     "text": [
      "hello there\n"
     ]
    },
    {
     "name": "stdin",
     "output_type": "stream",
     "text": [
      "Enter something:hello there  done\n"
     ]
    },
    {
     "name": "stdout",
     "output_type": "stream",
     "text": [
      "Done\n"
     ]
    }
   ],
   "source": [
    "# Program to echo user input until 'done' is entered\n",
    "\n",
    "while True:\n",
    "    user_input = input(\"Enter something:hello there \")  # Get input from the user\n",
    "    if user_input.lower() == 'done':  # Check if the input is 'done' (case insensitive)\n",
    "        print(\"Done\")\n",
    "        break\n",
    "    print(user_input)  # Print the input as it is\n"
   ]
  },
  {
   "cell_type": "markdown",
   "id": "451389c2-7c15-4109-a954-94a66c8dd08f",
   "metadata": {},
   "source": [
    "# EXECRISE 9"
   ]
  },
  {
   "cell_type": "code",
   "execution_count": 11,
   "id": "599975f6-092c-490a-bf0e-88d58d4dc3ea",
   "metadata": {},
   "outputs": [
    {
     "name": "stdout",
     "output_type": "stream",
     "text": [
      "1\n",
      "2\n",
      "Fizz\n",
      "4\n",
      "Buzz\n",
      "Fizz\n",
      "7\n",
      "8\n",
      "Fizz\n",
      "Buzz\n"
     ]
    }
   ],
   "source": [
    "# Program to print numbers with \"Fizz\", \"Buzz\", or \"FizzBuzz\"\n",
    "\n",
    "for i in range(1, 11):\n",
    "    if i % 3 == 0 and i % 5 == 0:\n",
    "        print(\"FizzBuzz\")\n",
    "    elif i % 3 == 0:\n",
    "        print(\"Fizz\")\n",
    "    elif i % 5 == 0:\n",
    "        print(\"Buzz\")\n",
    "    else:\n",
    "        print(i)\n"
   ]
  },
  {
   "cell_type": "markdown",
   "id": "cf5b3895-1c0a-4651-9417-c0509b4dd108",
   "metadata": {},
   "source": [
    "# EXECRISE 10"
   ]
  },
  {
   "cell_type": "code",
   "execution_count": 12,
   "id": "5d3979fd-70b2-4718-a241-abd567b4290d",
   "metadata": {},
   "outputs": [
    {
     "name": "stdout",
     "output_type": "stream",
     "text": [
      "5 4 3 2 1 \n",
      "4 3 2 1 \n",
      "3 2 1 \n",
      "2 1 \n",
      "1 \n"
     ]
    }
   ],
   "source": [
    "# Program to print the desired pattern\n",
    "\n",
    "# Outer loop for the rows\n",
    "for i in range(5, 0, -1):\n",
    "    # Inner loop to print numbers in each row\n",
    "    for j in range(i, 0, -1):\n",
    "        print(j, end=\" \")\n",
    "    print()  # Move to the next line after each row\n"
   ]
  },
  {
   "cell_type": "code",
   "execution_count": null,
   "id": "b7a64842-989f-4b0b-9961-01c55162fd61",
   "metadata": {},
   "outputs": [],
   "source": []
  }
 ],
 "metadata": {
  "kernelspec": {
   "display_name": "Python 3 (ipykernel)",
   "language": "python",
   "name": "python3"
  },
  "language_info": {
   "codemirror_mode": {
    "name": "ipython",
    "version": 3
   },
   "file_extension": ".py",
   "mimetype": "text/x-python",
   "name": "python",
   "nbconvert_exporter": "python",
   "pygments_lexer": "ipython3",
   "version": "3.12.7"
  }
 },
 "nbformat": 4,
 "nbformat_minor": 5
}
