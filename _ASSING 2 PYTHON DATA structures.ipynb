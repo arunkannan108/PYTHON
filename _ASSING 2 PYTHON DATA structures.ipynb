{
 "cells": [
  {
   "cell_type": "markdown",
   "id": "8ff0bbe5-1939-4565-b80a-a3a63c0b6055",
   "metadata": {},
   "source": [
    "# TOPIC:LIST"
   ]
  },
  {
   "cell_type": "markdown",
   "id": "a04c2bfd-b825-495a-b0b0-0b61528d68cc",
   "metadata": {},
   "source": [
    "Q1"
   ]
  },
  {
   "cell_type": "code",
   "execution_count": 14,
   "id": "32edf909-7a83-4932-97a7-295d8c2b47eb",
   "metadata": {},
   "outputs": [],
   "source": [
    "import random\n",
    "numbers = [random.randint(1,100) for _ in range(5)]"
   ]
  },
  {
   "cell_type": "code",
   "execution_count": 15,
   "id": "239ddba4-d1d5-4a3e-8b42-25c7bc99e1ca",
   "metadata": {},
   "outputs": [
    {
     "name": "stdout",
     "output_type": "stream",
     "text": [
      "[90, 73, 33, 43, 36]\n"
     ]
    }
   ],
   "source": [
    "print(numbers)"
   ]
  },
  {
   "cell_type": "markdown",
   "id": "a338336d-c6e2-4ee7-a107-fcc71212c79e",
   "metadata": {},
   "source": [
    "Q2"
   ]
  },
  {
   "cell_type": "code",
   "execution_count": 16,
   "id": "82ec1e4a-0c51-437d-9edc-ba92571e3674",
   "metadata": {},
   "outputs": [],
   "source": [
    "numbers = [23, 45, 12, 67, 89]"
   ]
  },
  {
   "cell_type": "code",
   "execution_count": 17,
   "id": "0a124ab2-6de9-4489-a2c1-1a931d126069",
   "metadata": {},
   "outputs": [
    {
     "name": "stdout",
     "output_type": "stream",
     "text": [
      "[50, 23, 45, 75, 12, 67, 31, 89]\n"
     ]
    }
   ],
   "source": [
    "numbers.insert(0, 50)\n",
    "numbers.insert(3, 75)\n",
    "numbers.insert(-1, 31)\n",
    "print(numbers)"
   ]
  },
  {
   "cell_type": "markdown",
   "id": "24ac2160-8b4d-4fe8-aaa8-3adff50adcbb",
   "metadata": {},
   "source": [
    "Q3"
   ]
  },
  {
   "cell_type": "code",
   "execution_count": 18,
   "id": "a915d780-4b9a-4267-920e-4d1cf59b2a3f",
   "metadata": {},
   "outputs": [
    {
     "name": "stdout",
     "output_type": "stream",
     "text": [
      "23\n",
      "45\n",
      "12\n",
      "67\n",
      "89\n",
      "50\n",
      "75\n",
      "31\n"
     ]
    }
   ],
   "source": [
    "numbers = [23, 45, 12, 67, 89, 50, 75, 31]\n",
    "for number in numbers:print(number)"
   ]
  },
  {
   "cell_type": "markdown",
   "id": "2fff734d-7b8c-4feb-aa43-c5b034d1c277",
   "metadata": {},
   "source": [
    "# DICTIONARY EXERCISE"
   ]
  },
  {
   "cell_type": "markdown",
   "id": "56f8d7ff-e318-4119-b774-76f0fdcfe6b9",
   "metadata": {},
   "source": [
    "Q1"
   ]
  },
  {
   "cell_type": "code",
   "execution_count": 19,
   "id": "d4c1dd27-9cdf-4046-a6f9-ea7194e81ef9",
   "metadata": {},
   "outputs": [
    {
     "name": "stdout",
     "output_type": "stream",
     "text": [
      "{'name': 'Arun', 'age': 28, 'adress': 'Trivandrum'}\n"
     ]
    }
   ],
   "source": [
    "person = {'name': 'Arun',\n",
    "         'age': 28,\n",
    "         'adress': 'Trivandrum'}\n",
    "print(person)"
   ]
  },
  {
   "cell_type": "markdown",
   "id": "ff451a7a-ad64-49d5-be2f-3ae352490b09",
   "metadata": {},
   "source": [
    "Q2"
   ]
  },
  {
   "cell_type": "code",
   "execution_count": 20,
   "id": "0165adf9-3294-4f4e-a337-3e7094ba31d2",
   "metadata": {},
   "outputs": [
    {
     "name": "stdout",
     "output_type": "stream",
     "text": [
      "{'name': 'Arun', 'age': 28, 'adress': 'Trivandrum', 'phone': 1234567890}\n"
     ]
    }
   ],
   "source": [
    "person['phone'] = 1234567890\n",
    "print(person)"
   ]
  },
  {
   "cell_type": "markdown",
   "id": "672fbb1a-777c-4a48-b0eb-eb19fd91052f",
   "metadata": {},
   "source": [
    " # SET  EXERCISE"
   ]
  },
  {
   "cell_type": "markdown",
   "id": "3627e5e5-ae70-4f93-9019-e0d19b10b306",
   "metadata": {},
   "source": [
    "Q1"
   ]
  },
  {
   "cell_type": "code",
   "execution_count": 21,
   "id": "734c9cff-e3d8-4e32-84d8-57e5803109c8",
   "metadata": {},
   "outputs": [
    {
     "name": "stdout",
     "output_type": "stream",
     "text": [
      "{1, 2, 3, 4, 5}\n"
     ]
    }
   ],
   "source": [
    "my_set = {1, 2, 3, 4, 5}\n",
    "print(my_set)"
   ]
  },
  {
   "cell_type": "markdown",
   "id": "a5dc4f45-7c97-430c-9d43-6a18d2399fe6",
   "metadata": {},
   "source": [
    "Q2"
   ]
  },
  {
   "cell_type": "code",
   "execution_count": 22,
   "id": "d3cbc83f-6339-486e-8153-0d914a0bdef5",
   "metadata": {},
   "outputs": [
    {
     "name": "stdout",
     "output_type": "stream",
     "text": [
      "{1, 2, 3, 4, 5, 6}\n"
     ]
    }
   ],
   "source": [
    "my_set.add(6)\n",
    "print(my_set)"
   ]
  },
  {
   "cell_type": "markdown",
   "id": "ca346014-0487-44e4-a06f-3506df983a6a",
   "metadata": {},
   "source": [
    "Q3"
   ]
  },
  {
   "cell_type": "code",
   "execution_count": 23,
   "id": "4c36973d-935b-4aea-be2a-d89323e5ea42",
   "metadata": {},
   "outputs": [
    {
     "name": "stdout",
     "output_type": "stream",
     "text": [
      "{1, 2, 4, 5, 6}\n"
     ]
    }
   ],
   "source": [
    "my_set.remove(3)\n",
    "print(my_set)"
   ]
  },
  {
   "cell_type": "markdown",
   "id": "f441e478-e05e-4ccf-99f2-55d2d34e9da1",
   "metadata": {},
   "source": [
    "# TUPLE EXECRISE"
   ]
  },
  {
   "cell_type": "markdown",
   "id": "08508b06-8712-4742-9f6a-d814d388460a",
   "metadata": {},
   "source": [
    "Q1"
   ]
  },
  {
   "cell_type": "code",
   "execution_count": 24,
   "id": "3abf7532-99dd-4ef3-ac20-fe245ac5f35e",
   "metadata": {},
   "outputs": [
    {
     "name": "stdout",
     "output_type": "stream",
     "text": [
      "(1, 2, 3, 4)\n"
     ]
    }
   ],
   "source": [
    "my_tuple = (1, 2, 3, 4,)\n",
    "print(my_tuple)"
   ]
  },
  {
   "cell_type": "markdown",
   "id": "63b3eae8-1c39-4100-9dd8-6416e87ddbd0",
   "metadata": {},
   "source": [
    "Q2"
   ]
  },
  {
   "cell_type": "code",
   "execution_count": 25,
   "id": "1054dd04-ab32-4990-aed1-22d1b528c5f6",
   "metadata": {},
   "outputs": [
    {
     "name": "stdout",
     "output_type": "stream",
     "text": [
      "4\n"
     ]
    }
   ],
   "source": [
    "print(len(my_tuple))"
   ]
  },
  {
   "cell_type": "code",
   "execution_count": null,
   "id": "be4c0086-430d-4ef1-bdfa-49a88ca069c7",
   "metadata": {},
   "outputs": [],
   "source": []
  }
 ],
 "metadata": {
  "kernelspec": {
   "display_name": "Python 3 (ipykernel)",
   "language": "python",
   "name": "python3"
  },
  "language_info": {
   "codemirror_mode": {
    "name": "ipython",
    "version": 3
   },
   "file_extension": ".py",
   "mimetype": "text/x-python",
   "name": "python",
   "nbconvert_exporter": "python",
   "pygments_lexer": "ipython3",
   "version": "3.12.7"
  }
 },
 "nbformat": 4,
 "nbformat_minor": 5
}
