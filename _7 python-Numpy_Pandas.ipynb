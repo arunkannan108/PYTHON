{
 "cells": [
  {
   "cell_type": "markdown",
   "id": "74161e24-0613-44c0-8ce9-e4939b596ec6",
   "metadata": {},
   "source": [
    "# Create a numpy array containing the numbers from 1 to 10, and then reshape it to a 2x5 matrix."
   ]
  },
  {
   "cell_type": "code",
   "execution_count": 1,
   "id": "14621d94-a1ca-4bb5-b375-8db3938a9724",
   "metadata": {},
   "outputs": [
    {
     "name": "stdout",
     "output_type": "stream",
     "text": [
      "[[ 1  2  3  4  5]\n",
      " [ 6  7  8  9 10]]\n"
     ]
    }
   ],
   "source": [
    "import numpy as np\n",
    "\n",
    "# Create a numpy array with numbers from 1 to 10\n",
    "arr = np.arange(1, 11)\n",
    "\n",
    "# Reshape the array to a 2x5 matrix\n",
    "reshaped_arr = arr.reshape(2, 5)\n",
    "\n",
    "print(reshaped_arr)"
   ]
  },
  {
   "cell_type": "markdown",
   "id": "8657df51-29c0-4657-9285-f7168d7037d3",
   "metadata": {},
   "source": [
    "# Create a numpy array containing the numbers from 1 to 20, and then extract the elements between the 5th and 15th index."
   ]
  },
  {
   "cell_type": "code",
   "execution_count": 6,
   "id": "23c48777-e929-4e7e-8d5c-9db02d17703c",
   "metadata": {},
   "outputs": [
    {
     "name": "stdout",
     "output_type": "stream",
     "text": [
      "[ 6  7  8  9 10 11 12 13 14 15]\n"
     ]
    }
   ],
   "source": [
    "import numpy as np\n",
    "\n",
    "# Create a numpy array with numbers from 1 to 20\n",
    "arr = np.arange(1, 21)\n",
    "\n",
    "# Extract elements between the 5th and 15th index (6th to 15th element)\n",
    "extracted_elements = arr[5:15]\n",
    "\n",
    "print(extracted_elements)"
   ]
  },
  {
   "cell_type": "markdown",
   "id": "375cfaea-ae79-496a-a636-b1593bedd985",
   "metadata": {},
   "source": [
    "# Create a Pandas series with the following data: {'apples': 3, 'bananas': 2, 'oranges': 1}. Then, add a new item to the series with the key 'pears' and the value 4"
   ]
  },
  {
   "cell_type": "code",
   "execution_count": 4,
   "id": "b28e91dd-d25f-4447-b127-0379516e10e5",
   "metadata": {},
   "outputs": [
    {
     "name": "stdout",
     "output_type": "stream",
     "text": [
      "apples     3\n",
      "bananas    2\n",
      "oranges    1\n",
      "pears      4\n",
      "dtype: int64\n"
     ]
    }
   ],
   "source": [
    "import pandas as pd\n",
    "\n",
    "# Create a Pandas Series\n",
    "data = {'apples': 3, 'bananas': 2, 'oranges': 1}\n",
    "series = pd.Series(data)\n",
    "\n",
    "# Add a new item to the Series\n",
    "series['pears'] = 4\n",
    "\n",
    "print(series)"
   ]
  },
  {
   "cell_type": "markdown",
   "id": "5fc878ca-ee21-48f9-8333-51e2eaa0b234",
   "metadata": {},
   "source": [
    "# Add a new column to the data frame created in question 1, called occupation. The values for this column should be Programmer, Manager, and Analyst, corresponding to the rows in the dataframe."
   ]
  },
  {
   "cell_type": "code",
   "execution_count": 9,
   "id": "67e7d9af-af4c-4472-a2ce-78b0b8522921",
   "metadata": {},
   "outputs": [
    {
     "name": "stdout",
     "output_type": "stream",
     "text": [
      "    Name  Age  occupation\n",
      "0   Arun   30  Programmer\n",
      "1  Kiran   25     Manager\n",
      "2   Malu   35     Analyst\n"
     ]
    }
   ],
   "source": [
    "import pandas as pd\n",
    "\n",
    "# Create a DataFrame\n",
    "data = {\n",
    "    'Name': ['Arun', 'Kiran', 'Malu'],\n",
    "    'Age': [30, 25, 35]\n",
    "}\n",
    "df = pd.DataFrame(data)\n",
    "\n",
    "# Add a new column 'occupation'\n",
    "df['occupation'] = ['Programmer', 'Manager', 'Analyst']\n",
    "\n",
    "print(df)"
   ]
  },
  {
   "cell_type": "markdown",
   "id": "cda71eba-8ab8-472c-845a-acbd4d13ab98",
   "metadata": {},
   "source": [
    "# Select the rows of the dataframe where the age is greater than or equal to 30"
   ]
  },
  {
   "cell_type": "code",
   "execution_count": 10,
   "id": "2faa9654-0504-49a9-8e33-2c5a035533f9",
   "metadata": {},
   "outputs": [
    {
     "name": "stdout",
     "output_type": "stream",
     "text": [
      "   Name  Age  occupation\n",
      "0  Arun   30  Programmer\n",
      "2  Malu   35     Analyst\n"
     ]
    }
   ],
   "source": [
    "# Create a DataFrame\n",
    "data = {\n",
    "    'Name': ['Arun', 'Kiran', 'Malu'],\n",
    "    'Age': [30, 25, 35],\n",
    "    'occupation': ['Programmer', 'Manager', 'Analyst']\n",
    "}\n",
    "df = pd.DataFrame(data)\n",
    "\n",
    "# Select rows where Age is greater than or equal to 30\n",
    "selected_rows = df[df['Age'] >= 30]\n",
    "\n",
    "print(selected_rows)"
   ]
  },
  {
   "cell_type": "markdown",
   "id": "d1aedd02-c150-4f93-8738-e20e979d2359",
   "metadata": {},
   "source": [
    "# Convert this dataframe to a csv file and read that csv file, finally display the contents."
   ]
  },
  {
   "cell_type": "code",
   "execution_count": 11,
   "id": "854acde5-54c0-421b-a676-a56b22d669c3",
   "metadata": {},
   "outputs": [
    {
     "name": "stdout",
     "output_type": "stream",
     "text": [
      "    Name  Age  occupation\n",
      "0   Arun   30  Programmer\n",
      "1  Kiran   25     Manager\n",
      "2   Malu   35     Analyst\n"
     ]
    }
   ],
   "source": [
    "import pandas as pd\n",
    "\n",
    "# Create a DataFrame\n",
    "data = {\n",
    "    'Name': ['Arun', 'Kiran', 'Malu'],\n",
    "    'Age': [30, 25, 35],\n",
    "    'occupation': ['Programmer', 'Manager', 'Analyst']\n",
    "}\n",
    "df = pd.DataFrame(data)\n",
    "\n",
    "# Convert the DataFrame to a CSV file\n",
    "df.to_csv('data.csv', index=False)\n",
    "\n",
    "# Read the CSV file back into a DataFrame\n",
    "df_from_csv = pd.read_csv('data.csv')\n",
    "\n",
    "# Display the contents of the DataFrame\n",
    "print(df_from_csv)"
   ]
  },
  {
   "cell_type": "code",
   "execution_count": null,
   "id": "25f8c3b6-adbb-47bf-9f93-71adc23c1667",
   "metadata": {},
   "outputs": [],
   "source": []
  }
 ],
 "metadata": {
  "kernelspec": {
   "display_name": "Python 3 (ipykernel)",
   "language": "python",
   "name": "python3"
  },
  "language_info": {
   "codemirror_mode": {
    "name": "ipython",
    "version": 3
   },
   "file_extension": ".py",
   "mimetype": "text/x-python",
   "name": "python",
   "nbconvert_exporter": "python",
   "pygments_lexer": "ipython3",
   "version": "3.12.7"
  }
 },
 "nbformat": 4,
 "nbformat_minor": 5
}
