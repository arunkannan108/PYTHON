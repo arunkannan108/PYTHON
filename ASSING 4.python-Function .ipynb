{
 "cells": [
  {
   "cell_type": "markdown",
   "id": "c33abfee-669c-42c4-ac23-4a608293b155",
   "metadata": {},
   "source": [
    "# (lens)"
   ]
  },
  {
   "cell_type": "code",
   "execution_count": 1,
   "id": "94239b13-497c-4c70-af93-bdd4cc6249a5",
   "metadata": {
    "scrolled": true
   },
   "outputs": [
    {
     "name": "stdout",
     "output_type": "stream",
     "text": [
      "The list contains 4 items.\n"
     ]
    }
   ],
   "source": [
    "fruits = ['apple', 'banana', 'cherry', 'date']\n",
    "number_of_fruits = len(fruits)\n",
    "print(f'The list contains {number_of_fruits} items.')\n"
   ]
  },
  {
   "cell_type": "markdown",
   "id": "bbb43208-1e93-4139-b55a-9b07d0bb35e4",
   "metadata": {},
   "source": [
    "# Def greet(name)"
   ]
  },
  {
   "cell_type": "code",
   "execution_count": 1,
   "id": "7421be2b-4754-45c9-aba0-6095641f29e9",
   "metadata": {},
   "outputs": [
    {
     "name": "stdout",
     "output_type": "stream",
     "text": [
      "Hello, Arun!\n"
     ]
    }
   ],
   "source": [
    "def greet_user(name = \"Arun\"):\n",
    "    print(f\"Hello, {name}!\")\n",
    "    \n",
    "\n",
    "greet_user()"
   ]
  },
  {
   "cell_type": "markdown",
   "id": "4e135535-57c5-4e22-994c-1da7ff6e65fa",
   "metadata": {},
   "source": [
    "# find_maximum(numbers)"
   ]
  },
  {
   "cell_type": "code",
   "execution_count": 2,
   "id": "b83846d3-2af9-4f5e-8e51-063aed547b93",
   "metadata": {},
   "outputs": [
    {
     "name": "stdout",
     "output_type": "stream",
     "text": [
      "The maximum value is: 16\n"
     ]
    }
   ],
   "source": [
    "def find_maximum(numbers):\n",
    "    if not numbers:  \n",
    "        return None\n",
    "    current_max = numbers[0]\n",
    "    \n",
    "    for num in numbers[1:]:\n",
    "        if num > current_max:\n",
    "            current_max = num\n",
    "             return current_max\n",
    "numbers = [14, 8, 9, 16, 3, 1, 5]\n",
    "result = find_maximum(numbers)\n",
    "print(f\"The maximum value is: {result}\")"
   ]
  },
  {
   "cell_type": "markdown",
   "id": "8fd7ebcc-a228-49e1-bb72-5ec80299df14",
   "metadata": {},
   "source": [
    "# Difference between local and global variables "
   ]
  },
  {
   "cell_type": "code",
   "execution_count": 3,
   "id": "9bea60b0-d0aa-4809-8578-afdc04e72630",
   "metadata": {},
   "outputs": [
    {
     "name": "stdout",
     "output_type": "stream",
     "text": [
      "Local variable x inside the function: 5\n",
      "Global variable y inside the function: 20\n",
      "Global variable x outside the function: 10\n",
      "Global variable y outside the function: 20\n"
     ]
    }
   ],
   "source": [
    "# Global variable\n",
    "x = 10\n",
    "\n",
    "def my_function():\n",
    "    # Local variable with the same name as the global variable\n",
    "    x = 5\n",
    "    print(\"Local variable x inside the function:\", x)\n",
    "    \n",
    "    # Modifying the global variable explicitly\n",
    "    global y\n",
    "    y = 20\n",
    "    print(\"Global variable y inside the function:\", y)\n",
    "\n",
    "\n",
    "my_function()\n",
    "\n",
    "# Print the global variable\n",
    "print(\"Global variable x outside the function:\", x)\n",
    "print(\"Global variable y outside the function:\", y)\n"
   ]
  },
  {
   "cell_type": "markdown",
   "id": "ab7bbdbf-a226-4891-99ac-09999c8a9345",
   "metadata": {},
   "source": [
    "# def calculate_area"
   ]
  },
  {
   "cell_type": "code",
   "execution_count": 4,
   "id": "8c8887a7-bd4a-4c58-903e-1f2384339426",
   "metadata": {},
   "outputs": [
    {
     "name": "stdout",
     "output_type": "stream",
     "text": [
      "Area with length 10 and width 7: 70\n",
      "Area with length 10 and default width 5: 50\n"
     ]
    }
   ],
   "source": [
    "def calculate_area(length, width=5):\n",
    "    \"\"\"\n",
    "    Calculate the area of a rectangle.\n",
    "    \n",
    "    Args:\n",
    "        length (float): The length of the rectangle.\n",
    "        width (float): The width of the rectangle. Default is 5.\n",
    "    \n",
    "    Returns:\n",
    "        float: The area of the rectangle.\n",
    "    \"\"\"\n",
    "    return length * width\n",
    "\n",
    "# Calling the function with both arguments\n",
    "area_with_width = calculate_area(10, 7)\n",
    "print(\"Area with length 10 and width 7:\", area_with_width)\n",
    "\n",
    "# Calling the function with only the length argument\n",
    "area_with_default_width = calculate_area(10)\n",
    "print(\"Area with length 10 and default width 5:\", area_with_default_width)\n"
   ]
  }
 ],
 "metadata": {
  "kernelspec": {
   "display_name": "Python 3 (ipykernel)",
   "language": "python",
   "name": "python3"
  },
  "language_info": {
   "codemirror_mode": {
    "name": "ipython",
    "version": 3
   },
   "file_extension": ".py",
   "mimetype": "text/x-python",
   "name": "python",
   "nbconvert_exporter": "python",
   "pygments_lexer": "ipython3",
   "version": "3.12.7"
  }
 },
 "nbformat": 4,
 "nbformat_minor": 5
}
