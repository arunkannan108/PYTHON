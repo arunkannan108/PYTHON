{
 "cells": [
  {
   "cell_type": "markdown",
   "id": "b40d3fca-18ba-4564-be74-560fa8cb5d1b",
   "metadata": {},
   "source": [
    "EXERCISE 1\n"
   ]
  },
  {
   "cell_type": "code",
   "execution_count": 1,
   "id": "61aad75d-f977-4808-81b3-09839e28fe06",
   "metadata": {},
   "outputs": [],
   "source": [
    "name =\"ARUN\"\n",
    "student_no =\"AK3947\"\n",
    "email =\"arunkannanvl108@gmail.com\" "
   ]
  },
  {
   "cell_type": "code",
   "execution_count": 2,
   "id": "ea39ee53-88fa-435a-a0c3-f6a1d48f9b88",
   "metadata": {},
   "outputs": [
    {
     "name": "stdout",
     "output_type": "stream",
     "text": [
      "ARUN\n",
      "AK3947\n",
      "arunkannanvl108@gmail.com\n"
     ]
    }
   ],
   "source": [
    "print(name)\n",
    "print(student_no)\n",
    "print(email)"
   ]
  },
  {
   "cell_type": "markdown",
   "id": "e29a271e-7301-49d8-8d3f-b78975e528da",
   "metadata": {},
   "source": [
    "EXERCISE 2"
   ]
  },
  {
   "cell_type": "code",
   "execution_count": 3,
   "id": "099e6711-ba44-42fe-99a4-442019178367",
   "metadata": {},
   "outputs": [
    {
     "name": "stdout",
     "output_type": "stream",
     "text": [
      "Arun\n",
      "\n",
      "AK3947\n",
      "\n",
      "arunkannanv108@gmail.com\n"
     ]
    }
   ],
   "source": [
    "print(\"Arun\\n\\nAK3947\\n\\narunkannanv108@gmail.com\")"
   ]
  },
  {
   "cell_type": "markdown",
   "id": "89d95ea2-4bdd-4662-99b8-cc88a2d5cb99",
   "metadata": {},
   "source": [
    "EXERCISE 3"
   ]
  },
  {
   "cell_type": "code",
   "execution_count": 4,
   "id": "d9126bb1-7d16-43bb-8193-437ae9f702bf",
   "metadata": {},
   "outputs": [],
   "source": [
    "num1=12\n",
    "num2=6"
   ]
  },
  {
   "cell_type": "code",
   "execution_count": 5,
   "id": "b1378bd0-3971-48fd-8369-4c8dc346d52f",
   "metadata": {},
   "outputs": [],
   "source": [
    "addition=num1 + num2\n",
    "subtraction=num1 - num2\n",
    "multiplication=num1 * num2\n",
    "division=num1/num2"
   ]
  },
  {
   "cell_type": "code",
   "execution_count": 6,
   "id": "2d2039e1-560b-44e2-a48b-ffc33cabd7e8",
   "metadata": {},
   "outputs": [
    {
     "name": "stdout",
     "output_type": "stream",
     "text": [
      "Addition: 18\n",
      "Subtraction: 6\n",
      "multiplication: 72\n",
      "Division: 2.0\n"
     ]
    }
   ],
   "source": [
    "print(\"Addition:\",addition)\n",
    "print(\"Subtraction:\",subtraction)\n",
    "print(\"multiplication:\",multiplication)\n",
    "print(\"Division:\",division)"
   ]
  },
  {
   "cell_type": "markdown",
   "id": "1f4cfa3a-b599-4d0a-9edf-41d565d0badd",
   "metadata": {},
   "source": [
    "EXERCISE 4"
   ]
  },
  {
   "cell_type": "code",
   "execution_count": 7,
   "id": "c4a10f3f-b3f2-44bd-849c-3cdc8223f42d",
   "metadata": {},
   "outputs": [
    {
     "name": "stdout",
     "output_type": "stream",
     "text": [
      "1\n",
      "2\n",
      "3\n",
      "4\n",
      "5\n"
     ]
    }
   ],
   "source": [
    "for number in range(1,6):\n",
    "    print(number)"
   ]
  },
  {
   "cell_type": "markdown",
   "id": "8d6ea709-e79f-43fd-8ab8-b32b36157979",
   "metadata": {},
   "source": [
    "EXERCISE 5"
   ]
  },
  {
   "cell_type": "code",
   "execution_count": 8,
   "id": "ec9e9157-a781-491c-adde-8a0edf17e5af",
   "metadata": {},
   "outputs": [
    {
     "name": "stdout",
     "output_type": "stream",
     "text": [
      "\"SDK\"stands for\"Software Development Kit\",whereas\n",
      "\n",
      "\"IDE\"stands for  Integrated Development Environment\",\n"
     ]
    }
   ],
   "source": [
    "print('\"SDK\"stands for\"Software Development Kit\",whereas\\n\\n\"IDE\"stands for  Integrated Development Environment\",')"
   ]
  },
  {
   "cell_type": "markdown",
   "id": "66e8de5f-d578-4bf6-a415-64cef8a4ddb0",
   "metadata": {},
   "source": [
    "EXERCISE 6"
   ]
  },
  {
   "cell_type": "code",
   "execution_count": 9,
   "id": "fd53efdf-ea37-44cd-8fbd-02b972092cca",
   "metadata": {},
   "outputs": [
    {
     "name": "stdout",
     "output_type": "stream",
     "text": [
      "python is an\"awesome\" language.\n",
      "python\n",
      "\t2023\n",
      "I'M from Entri\n",
      "5\n",
      "e\n",
      "Entri\n",
      "2023\n",
      "Entr2023\n",
      "Entri*20"
     ]
    }
   ],
   "source": [
    "print(\"python is an\\\"awesome\\\" language.\")\n",
    "print(\"python\\n\\t2023\")\n",
    "print('I\\'M from Entri.\\b')\n",
    "print(\"\\65\")\n",
    "print(\"\\x65\")\n",
    "print(\"Entri\",\"2023\",sep=\"\\n\")\n",
    "print(\"Entri\",\"2023\",sep=\"\\b\")\n",
    "print(\"Entri\",\"2023\",sep=\"*\",end=\"\\b\\b\\b\\b\")"
   ]
  },
  {
   "cell_type": "markdown",
   "id": "68f3987d-5892-4f91-b5a6-fa08b51674cf",
   "metadata": {},
   "source": [
    "EXERCISE 7"
   ]
  },
  {
   "cell_type": "code",
   "execution_count": 10,
   "id": "a1217f25-5bdd-4937-94aa-b91df1bb12f3",
   "metadata": {},
   "outputs": [],
   "source": [
    "num = 23\n",
    "textnum = \"57\"\n",
    "decimal = 98.3"
   ]
  },
  {
   "cell_type": "code",
   "execution_count": 11,
   "id": "f9fd1975-3913-4a48-88ea-25ffb961e7aa",
   "metadata": {},
   "outputs": [
    {
     "name": "stdout",
     "output_type": "stream",
     "text": [
      "Type of num: <class 'int'>\n",
      "Type of textnum: <class 'str'>\n",
      "Type of decimal: <class 'float'>\n"
     ]
    }
   ],
   "source": [
    "print(\"Type of num:\", type(num))\n",
    "print(\"Type of textnum:\", type(textnum))\n",
    "print(\"Type of decimal:\", type(decimal))"
   ]
  },
  {
   "cell_type": "code",
   "execution_count": 12,
   "id": "a46691b8-3d15-49fc-9b43-bbc2ce2512e8",
   "metadata": {},
   "outputs": [],
   "source": [
    "sum = float(num) + float(textnum) + decimal"
   ]
  },
  {
   "cell_type": "code",
   "execution_count": 13,
   "id": "c9e771f9-d7b7-479a-bb1c-23fb4994e316",
   "metadata": {},
   "outputs": [
    {
     "name": "stdout",
     "output_type": "stream",
     "text": [
      "178.3\n",
      "<class 'float'>\n"
     ]
    }
   ],
   "source": [
    "print(sum) \n",
    "print(type(sum))"
   ]
  },
  {
   "cell_type": "markdown",
   "id": "75cdde1c-dfe7-4ebd-bb20-078d17ee20ac",
   "metadata": {},
   "source": [
    "EXERCISE 8"
   ]
  },
  {
   "cell_type": "code",
   "execution_count": 14,
   "id": "2e3550b1-f345-45e1-bd19-2126295de5be",
   "metadata": {},
   "outputs": [],
   "source": [
    "days_in_a_year = 365\n",
    "hours_in_a_day = 24\n",
    "minutes_in_an_hour = 60"
   ]
  },
  {
   "cell_type": "code",
   "execution_count": 15,
   "id": "1aff71dd-eca8-4b31-b74d-aa6930d74c8c",
   "metadata": {},
   "outputs": [],
   "source": [
    "total_minutes_in_a_year = days_in_a_year *hours_in_a_day* minutes_in_an_hour"
   ]
  },
  {
   "cell_type": "code",
   "execution_count": 16,
   "id": "07718a55-bb34-4eec-a81c-32367b736fac",
   "metadata": {},
   "outputs": [
    {
     "name": "stdout",
     "output_type": "stream",
     "text": [
      "This code calculates the total number of minutes in a year using variables for days,hours,and minutes\n",
      "Number of days in a year: 365\n",
      "Number of hours in a day 24\n",
      "Number of minutes in an hour 60\n",
      "total number of minutes in a year 525600\n"
     ]
    }
   ],
   "source": [
    "print(\"This code calculates the total number of minutes in a year using variables for days,hours,and minutes\")\n",
    "print(\"Number of days in a year:\",days_in_a_year)\n",
    "print(\"Number of hours in a day\",hours_in_a_day)\n",
    "print(\"Number of minutes in an hour\",minutes_in_an_hour)\n",
    "print(\"total number of minutes in a year\",total_minutes_in_a_year)"
   ]
  },
  {
   "cell_type": "markdown",
   "id": "ec431d67-19f8-477f-bd92-2143de23054f",
   "metadata": {},
   "source": [
    "EXERCISE 9"
   ]
  },
  {
   "cell_type": "code",
   "execution_count": 17,
   "id": "2fcdafaa-892a-4393-b882-a8f7c8c28cd9",
   "metadata": {},
   "outputs": [
    {
     "name": "stdout",
     "output_type": "stream",
     "text": [
      "Hi Arun: , welcome to Python programming!\n"
     ]
    }
   ],
   "source": [
    "name = (\"Arun: \")\n",
    "print(f\"Hi {name}, welcome to Python programming!\")"
   ]
  },
  {
   "cell_type": "markdown",
   "id": "39235c9d-de59-4273-9bf6-7d9df13bdee9",
   "metadata": {},
   "source": [
    "EXERCISE 10"
   ]
  },
  {
   "cell_type": "code",
   "execution_count": 18,
   "id": "c194982d-9ac5-475e-bff4-5b91acead5e2",
   "metadata": {},
   "outputs": [
    {
     "name": "stdin",
     "output_type": "stream",
     "text": [
      "Please enter amount in pounds:  1000\n"
     ]
    },
    {
     "name": "stdout",
     "output_type": "stream",
     "text": [
      "£1000.00 are $1270.00\n"
     ]
    }
   ],
   "source": [
    "EXCHANGE_RATE = 1.27\n",
    "pounds = float(input(\"1000: \"))\n",
    "dollars = pounds * EXCHANGE_RATE\n",
    "print(f\"£{pounds:.2f} are ${dollars:.2f}\")"
   ]
  },
  {
   "cell_type": "code",
   "execution_count": null,
   "id": "a12d3c26-8ee2-4604-a410-a97350f9c73f",
   "metadata": {},
   "outputs": [],
   "source": []
  }
 ],
 "metadata": {
  "kernelspec": {
   "display_name": "Python 3 (ipykernel)",
   "language": "python",
   "name": "python3"
  },
  "language_info": {
   "codemirror_mode": {
    "name": "ipython",
    "version": 3
   },
   "file_extension": ".py",
   "mimetype": "text/x-python",
   "name": "python",
   "nbconvert_exporter": "python",
   "pygments_lexer": "ipython3",
   "version": "3.12.7"
  }
 },
 "nbformat": 4,
 "nbformat_minor": 5
}
