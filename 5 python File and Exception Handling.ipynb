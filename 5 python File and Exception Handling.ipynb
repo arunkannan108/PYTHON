{
 "cells": [
  {
   "cell_type": "markdown",
   "id": "1ad73069-03bf-4e51-8a08-5545834c3e11",
   "metadata": {},
   "source": [
    "# Write a Python program to read a file and display its contents"
   ]
  },
  {
   "cell_type": "code",
   "execution_count": 1,
   "id": "18d98601-cc19-40e8-94df-7dbc55269aa7",
   "metadata": {},
   "outputs": [],
   "source": [
    "def read_file(Hello_world):\n",
    "    try:\n",
    "        with open(file_name, 'r') as file:\n",
    "            contents = file.read()\n",
    "            print(contents)\n",
    "    except FileNotFoundError:\n",
    "        print(f\"Error: The file '{file_name}' was not found.\")\n",
    "    except Exception as e:\n",
    "        print(f\"An error occurred: {e}\")"
   ]
  },
  {
   "cell_type": "markdown",
   "id": "9f578ebd-ea4a-4b4d-8dd4-14b1fe4dacb8",
   "metadata": {},
   "source": [
    "# Write a Python program to copy the contents of one file to another file"
   ]
  },
  {
   "cell_type": "code",
   "execution_count": 2,
   "id": "71881dbd-9772-4906-bace-b3d7464f6b75",
   "metadata": {},
   "outputs": [],
   "source": [
    "def copy_file( myexcel_corrected,Excel_project):\n",
    "    try:\n",
    "        with open(source_file, 'r') as src:\n",
    "            contents = src.read()\n",
    "        \n",
    "        with open(destination_file, 'w') as dest:\n",
    "            dest.write(contents)\n",
    "        \n",
    "        print(f\"Contents copied from {source_file} to {destination_file} successfully.\")\n",
    "    except FileNotFoundError:\n",
    "        print(f\"Error: The file '{source_file}' was not found.\")\n",
    "    except Exception as e:\n",
    "        print(f\"An error occurred: {e}\")"
   ]
  },
  {
   "cell_type": "markdown",
   "id": "70305cda-b0c4-4658-918e-0c946e5dcf23",
   "metadata": {},
   "source": [
    " # Write a Python program to read the content of a file and count the total number of words in that file"
   ]
  },
  {
   "cell_type": "code",
   "execution_count": 3,
   "id": "e763c0a9-f416-4bbb-a401-2a75a76e66f1",
   "metadata": {},
   "outputs": [],
   "source": [
    "def count_words(Hello_World):\n",
    "    try:\n",
    "        with open(filename, 'r') as file:\n",
    "            contents = file.read()\n",
    "            words = contents.split()\n",
    "            word_count = len(words)\n",
    "            print(f\"Total number of words in '{filename}': {word_count}\")\n",
    "    except FileNotFoundError:\n",
    "        print(f\"Error: The file '{filename}' was not found.\")\n",
    "    except Exception as e:\n",
    "        print(f\"An error occurred: {e}\")\n",
    "\n"
   ]
  },
  {
   "cell_type": "markdown",
   "id": "180a7ea6-a840-453b-bf8b-903ab118b972",
   "metadata": {},
   "source": [
    "# Write a Python program that prompts the user to input a string and converts it to an integer."
   ]
  },
  {
   "cell_type": "code",
   "execution_count": null,
   "id": "fb1f96f1-51f9-4892-bbe0-479d3c85fc8b",
   "metadata": {},
   "outputs": [],
   "source": [
    "def convert_to_integer():\n",
    "    try:\n",
    "        user_input = input(\"10: \")\n",
    "        number = int(user_input)\n",
    "        print(f\"The integer value is: {number}\")\n",
    "    except ValueError:\n",
    "        print(\"Error: Invalid input. Please enter a valid integer.\")\n",
    "    except Exception as e:\n",
    "        print(f\"An unexpected error occurred: {e}\")\n",
    "\n"
   ]
  },
  {
   "cell_type": "markdown",
   "id": "0944de99-978a-4c02-ae29-fce6233def30",
   "metadata": {},
   "source": [
    " # Write a Python program that prompts the user to input a list of integers and raises an exception if any of the integers in the list are negative."
   ]
  },
  {
   "cell_type": "code",
   "execution_count": null,
   "id": "f3755a19-34cc-4fa7-9c35-7e27faab2a15",
   "metadata": {},
   "outputs": [],
   "source": [
    "class NegativeIntegerError(Exception):\n",
    "    pass\n",
    "\n",
    "def get_positive_integers():\n",
    "    try:\n",
    "        user_input = input(\"1 2 3 4 5 6 7 8 9 10 \")\n",
    "        numbers = list(map(int, user_input.split()))\n",
    "        \n",
    "        for num in numbers:\n",
    "            if num < 0:\n",
    "                raise NegativeIntegerError(\"Error: Negative integers are not allowed.\")\n",
    "        \n",
    "        print(f\"Valid list of integers: {numbers}\")\n",
    "    except ValueError:\n",
    "        print(\"Error: Invalid input. Please enter only integers.\")\n",
    "    except NegativeIntegerError as e:\n",
    "        print(e)\n",
    "    except Exception as e:\n",
    "        print(f\"An unexpected error occurred: {e}\")\n",
    "\n"
   ]
  },
  {
   "cell_type": "markdown",
   "id": "bb987550-d9c8-4512-97fe-063dc86daef8",
   "metadata": {},
   "source": [
    "# Write a Python program that prompts the user to input a list of integers and computes the average of those integers. "
   ]
  },
  {
   "cell_type": "code",
   "execution_count": null,
   "id": "54dce820-cfe3-42ed-ad85-8d380b1cb161",
   "metadata": {},
   "outputs": [],
   "source": [
    "def compute_average():\n",
    "    try:\n",
    "        user_input = input(\"10 11 12 14 15 17 18 21: \")\n",
    "        numbers = list(map(int, user_input.split()))\n",
    "        \n",
    "        if not numbers:\n",
    "            raise ValueError(\"Error: The list is empty. Please enter at least one number.\")\n",
    "        \n",
    "        average = sum(numbers) / len(numbers)\n",
    "        print(f\"The average is: {average}\")\n",
    "    except ValueError as e:\n",
    "        print(f\"Error: {e}\")\n",
    "    except Exception as e:\n",
    "        print(f\"An unexpected error occurred: {e}\")\n",
    "    finally:\n",
    "        print(\"Program execution completed.\")\n",
    "\n",
    "\n"
   ]
  },
  {
   "cell_type": "markdown",
   "id": "0989ac6e-35d3-43d9-9eec-c1f814aae3e2",
   "metadata": {},
   "source": [
    "# Write a Python program that prompts the user to input a filename and writes a string to that file. "
   ]
  },
  {
   "cell_type": "code",
   "execution_count": null,
   "id": "a95ea2cd-cf6e-4eea-a9e6-4b2f717546ab",
   "metadata": {},
   "outputs": [],
   "source": [
    "def write_to_file(Netaji_Bose):\n",
    "    try:\n",
    "        filename = input(\" Netaji_Bose:\")\n",
    "        content = input(\" freedom: \")\n",
    "        \n",
    "        with open(filename, 'w') as file:\n",
    "            file.write(content)\n",
    "        \n",
    "        print(\"Welcome! The content has been written successfully.\")\n",
    "    except FileNotFoundError:\n",
    "        print(\"Error: The specified file could not be found.\")\n",
    "    except IOError:\n",
    "        print(\"Error: An I/O error occurred while writing to the file.\")\n",
    "    except Exception as e:\n",
    "        print(f\"An unexpected error occurred: {e}\")\n",
    "\n"
   ]
  }
 ],
 "metadata": {
  "kernelspec": {
   "display_name": "Python 3 (ipykernel)",
   "language": "python",
   "name": "python3"
  },
  "language_info": {
   "codemirror_mode": {
    "name": "ipython",
    "version": 3
   },
   "file_extension": ".py",
   "mimetype": "text/x-python",
   "name": "python",
   "nbconvert_exporter": "python",
   "pygments_lexer": "ipython3",
   "version": "3.12.7"
  }
 },
 "nbformat": 4,
 "nbformat_minor": 5
}
